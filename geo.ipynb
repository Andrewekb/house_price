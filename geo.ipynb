{
 "cells": [
  {
   "attachments": {},
   "cell_type": "markdown",
   "metadata": {},
   "source": [
    "#### Собирает данные о геопозиции"
   ]
  },
  {
   "cell_type": "code",
   "execution_count": 50,
   "metadata": {},
   "outputs": [],
   "source": [
    "\n",
    "import pandas as pd\n",
    "from geopy.geocoders import Nominatim\n",
    "from geopy.distance import geodesic\n"
   ]
  },
  {
   "cell_type": "code",
   "execution_count": null,
   "metadata": {},
   "outputs": [],
   "source": [
    "#Для каждого уникального адреса собирает геопозицию и полный адрес\n",
    "\n",
    "\n",
    "df = pd.read_csv('total.csv')\n",
    "df['address'] = df['street'] + ' ' + df['house'].str.replace('\\xa0', '')\n",
    "a = df.address.unique()\n",
    "\n",
    "\n",
    "geolocator = Nominatim(user_agent=\"housing\", timeout=20)\n",
    "\n",
    "\n",
    "d = {'address':[], 'latitude':[], 'longitude':[], 'full_address':[]}\n",
    "count = 0\n",
    "for i in a:\n",
    "    d['address'].append(i)\n",
    "    i = 'россия екатеринбург' + ' ' + i\n",
    "    location = geolocator.geocode(i)\n",
    "\n",
    "#Для некоторых адресов геопозиция не определяется\n",
    "#удаляет последний символ в адресе, повторно определение геопозиции\n",
    "    \n",
    "    while hasattr(location, 'latitude') is False:\n",
    "        i = i[:i.rfind(' ')]\n",
    "        location = geolocator.geocode(i)\n",
    "    try:\n",
    "    \n",
    "        d['latitude'].append(location.latitude)\n",
    "        d['longitude'].append(location.longitude)\n",
    "        d['full_address'].append(location.address)\n",
    "    except:\n",
    "        \n",
    "        d['latitude'].append(0)\n",
    "        d['longitude'].append(0)\n",
    "        d['full_address'].append(location.address)\n",
    "    count+=1\n",
    "    if count%100 == 0:\n",
    "        print(count)\n",
    "\n",
    "\n",
    "    "
   ]
  },
  {
   "cell_type": "code",
   "execution_count": 38,
   "metadata": {},
   "outputs": [],
   "source": [
    "#координаты центра екатеринбурга\n",
    "\n",
    "c = (56.83725377741802,60.597350913273274)\n",
    "\n",
    "\n",
    "\n",
    "#координаты метро\n",
    "square_1905 = (56.8362716853893,60.59968979953426)\n",
    "dinamo = (56.84782181862475,60.59947472070306)\n",
    "uralskaya = (56.857638533270126,60.60010772203058)\n",
    "mash = (56.87755339342598,60.6116150117623)\n",
    "uralmash = (56.88860434388676,60.61365789683971)\n",
    "kosmos = (56.901832944294,60.613943098293326)\n",
    "geolog = (56.827545099355305,60.60260559413865)\n",
    "chkalov = (56.80774218566658,60.61050189281998)\n",
    "botan = 56.79736609518068,60.63237728844232\n",
    "\n",
    "metro_list = (square_1905, dinamo, uralskaya, mash, uralmash, kosmos, geolog, chkalov, botan)\n",
    "\n"
   ]
  },
  {
   "cell_type": "code",
   "execution_count": null,
   "metadata": {},
   "outputs": [],
   "source": [
    "df1 = pd.DataFrame(d)"
   ]
  },
  {
   "cell_type": "code",
   "execution_count": 203,
   "metadata": {},
   "outputs": [
    {
     "name": "stderr",
     "output_type": "stream",
     "text": [
      "/var/folders/m9/x7jxk9jx2g9ch4ngnwz3n8wh0000gn/T/ipykernel_6082/1676684233.py:5: SettingWithCopyWarning: \n",
      "A value is trying to be set on a copy of a slice from a DataFrame\n",
      "\n",
      "See the caveats in the documentation: https://pandas.pydata.org/pandas-docs/stable/user_guide/indexing.html#returning-a-view-versus-a-copy\n",
      "  df1['distance_centre'][i] = round(geodesic(c, (float(df1.latitude[i]), float(df1.longitude[i]))).kilometers, 1)\n"
     ]
    }
   ],
   "source": [
    "#расчитывает расстояние до центра для каждого адреса\n",
    "\n",
    "df1['distance_centre'] = 0\n",
    "\n",
    "for i in range(len(df1)):\n",
    "\n",
    "    df1['distance_centre'][i] = round(geodesic(c, (float(df1.latitude[i]), float(df1.longitude[i]))).kilometers, 1)"
   ]
  },
  {
   "cell_type": "code",
   "execution_count": 204,
   "metadata": {},
   "outputs": [
    {
     "name": "stderr",
     "output_type": "stream",
     "text": [
      "/var/folders/m9/x7jxk9jx2g9ch4ngnwz3n8wh0000gn/T/ipykernel_6082/48496119.py:8: SettingWithCopyWarning: \n",
      "A value is trying to be set on a copy of a slice from a DataFrame\n",
      "\n",
      "See the caveats in the documentation: https://pandas.pydata.org/pandas-docs/stable/user_guide/indexing.html#returning-a-view-versus-a-copy\n",
      "  df1['distance_metro'][i] = round(min(a), 1)\n"
     ]
    }
   ],
   "source": [
    "#расчитывает расстояние до ближайшей станции метро\n",
    "\n",
    "df1['distance_metro'] = 0\n",
    "yo = []\n",
    "for i in range(len(df1)):\n",
    "    a = []\n",
    "    for j in metro_list:\n",
    "        \n",
    "        a.append(geodesic(j, (float(df1.latitude[i]), float(df1.longitude[i]))).kilometers)\n",
    "        df1['distance_metro'][i] = round(min(a), 1)\n",
    "\n",
    "    "
   ]
  },
  {
   "cell_type": "code",
   "execution_count": 226,
   "metadata": {},
   "outputs": [
    {
     "name": "stderr",
     "output_type": "stream",
     "text": [
      "/var/folders/m9/x7jxk9jx2g9ch4ngnwz3n8wh0000gn/T/ipykernel_6082/3926049492.py:6: SettingWithCopyWarning: \n",
      "A value is trying to be set on a copy of a slice from a DataFrame\n",
      "\n",
      "See the caveats in the documentation: https://pandas.pydata.org/pandas-docs/stable/user_guide/indexing.html#returning-a-view-versus-a-copy\n",
      "  df1['area'][j] = i[i[:i.find(' район')].rfind(' ')+1:i.find(' район')]\n"
     ]
    }
   ],
   "source": [
    "#достает район из fulladdress\n",
    "\n",
    "df1['area'] = 0\n",
    "j = 0\n",
    "\n",
    "for i in list(df1.full_address):\n",
    "\n",
    "    df1['area'][j] = i[i[:i.find(' район')].rfind(' ')+1:i.find(' район')]\n",
    "    j+=1"
   ]
  },
  {
   "cell_type": "code",
   "execution_count": 251,
   "metadata": {},
   "outputs": [],
   "source": [
    "df1.to_csv('coords.csv')\n"
   ]
  }
 ],
 "metadata": {
  "kernelspec": {
   "display_name": "Python 3",
   "language": "python",
   "name": "python3"
  },
  "language_info": {
   "codemirror_mode": {
    "name": "ipython",
    "version": 3
   },
   "file_extension": ".py",
   "mimetype": "text/x-python",
   "name": "python",
   "nbconvert_exporter": "python",
   "pygments_lexer": "ipython3",
   "version": "3.11.1"
  },
  "orig_nbformat": 4
 },
 "nbformat": 4,
 "nbformat_minor": 2
}
