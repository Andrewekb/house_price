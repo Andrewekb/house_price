{
 "cells": [
  {
   "attachments": {},
   "cell_type": "markdown",
   "metadata": {},
   "source": [
    "#### Модель sklearn Gradient Boosting Regressor"
   ]
  },
  {
   "cell_type": "code",
   "execution_count": 8,
   "metadata": {},
   "outputs": [],
   "source": [
    "import pandas as pd\n",
    "from sklearn.metrics import mean_squared_error\n",
    "from sklearn.model_selection import train_test_split\n",
    "from sklearn.ensemble import GradientBoostingRegressor\n",
    "import sqlite3\n",
    "import pickle"
   ]
  },
  {
   "cell_type": "code",
   "execution_count": 9,
   "metadata": {},
   "outputs": [],
   "source": [
    "#Данные, из total.csv и coords.csv в БД apartments.db\n",
    "\n",
    "\n",
    "con = sqlite3.connect(\"/users/andrejmironov/Documents/flask-learn/instance/apartments.db\")\n",
    "cur = con.cursor()\n",
    "\n"
   ]
  },
  {
   "cell_type": "code",
   "execution_count": 12,
   "metadata": {},
   "outputs": [],
   "source": [
    "#Формирует DF, объединение по адресу\n",
    "\n",
    "total = total = pd.read_sql_query(\n",
    "\n",
    "    \"select * from total t left join coords c on t.address == c.address \", \n",
    "    con\n",
    ")\n",
    "\n",
    "\n",
    "\n",
    "\n",
    "\n",
    "\n",
    "total.drop(columns=['price', 'street', 'house', 'address', 'address', 'latitude', 'longitude', 'full_address'], inplace=True)\n",
    "\n",
    "total = total.query(\"newbuilding == 'Вторичка'\")\n",
    "\n",
    "\n",
    "\n",
    "\n",
    "\n",
    "\n",
    "#удаляю выбросы - 1,5 межквантильных размаха из колонки со средней стоимостью метра\n",
    "Q1 = total['kv'].quantile(0.25)\n",
    "Q3 = total['kv'].quantile(0.75)\n",
    "IQR = Q3 - Q1\n",
    "a = total[(total['kv'] < Q1-1.5*IQR ) | (total['kv'] > Q3+1.5*IQR)]['kv'].reset_index()\n",
    "    \n",
    "#список с исключениями\n",
    "a = list(a.kv)\n",
    "#исключаю выбросы\n",
    "total= total.query(\"kv != @a and material != '0' and hight != 1\")\n",
    "\n",
    "\n",
    "\n",
    "#меняем категориальные переменные\n",
    "column_list = []\n",
    "for c in list(total.columns):\n",
    "    if total.dtypes['{}'.format(c)] == 'object':\n",
    "        column_list.append(c)\n",
    "total = pd.get_dummies(data=total, columns=column_list).drop(columns=['index'])\n"
   ]
  },
  {
   "cell_type": "code",
   "execution_count": 13,
   "metadata": {},
   "outputs": [
    {
     "name": "stdout",
     "output_type": "stream",
     "text": [
      "Ошибка на обучающей выборке 16863.534118427575\n",
      "Ошибка на тесте 19839.92649886385\n"
     ]
    }
   ],
   "source": [
    "#Формирует тестовую и обучающую выборки, метрика - RMSE\n",
    "X_train,X_test, y_train, y_test = train_test_split(total.drop('kv',axis=1),\n",
    "                                                        total.kv,\n",
    "                                                        shuffle = True,\n",
    "                                                        random_state = 42,\n",
    "                                                        test_size = 0.03)\n",
    "\n",
    "\n",
    "\n",
    "\n",
    "dtr = GradientBoostingRegressor(n_estimators=200)\n",
    "dtr.fit(X_train, y_train)\n",
    "print('Ошибка на обучающей выборке', (mean_squared_error(y_train, dtr.predict(X_train))**0.5))\n",
    "pred = dtr.predict(X_test)\n",
    "print('Ошибка на тесте', (mean_squared_error(y_test, pred)**0.5))\n"
   ]
  },
  {
   "cell_type": "code",
   "execution_count": 348,
   "metadata": {},
   "outputs": [],
   "source": [
    "#Для колонки newbuilding создает файлы, далее используется для предсказания стоимости\n",
    "\n",
    "with open('data.pickle', 'wb') as f:\n",
    "    pickle.dump(dtr, f)"
   ]
  },
  {
   "cell_type": "code",
   "execution_count": null,
   "metadata": {},
   "outputs": [],
   "source": [
    "import matplotlib.pyplot as plt"
   ]
  },
  {
   "cell_type": "code",
   "execution_count": null,
   "metadata": {},
   "outputs": [],
   "source": [
    "a = total.groupby('transport_accessibility')['city_area'].count().reset_index()\n",
    "fig, ax = plt.subplots()\n",
    "ax.barh(a.transport_accessibility, a.city_area, edgecolor=\"white\", linewidth=0.7)"
   ]
  },
  {
   "cell_type": "code",
   "execution_count": null,
   "metadata": {},
   "outputs": [],
   "source": [
    "a = total.groupby('city_area')['rooms'].count().reset_index()\n",
    "fig, ax = plt.subplots()\n",
    "ax.barh(a.city_area, a.rooms, edgecolor=\"white\", linewidth=0.7)"
   ]
  },
  {
   "cell_type": "code",
   "execution_count": null,
   "metadata": {},
   "outputs": [],
   "source": [
    "a = total.groupby('metro')['rooms'].count().reset_index()\n",
    "a.metro.replace('0', 'Нет', inplace=True)\n",
    "fig, ax = plt.subplots()\n",
    "ax.pie(a.rooms, labels=a.metro)"
   ]
  },
  {
   "cell_type": "code",
   "execution_count": null,
   "metadata": {},
   "outputs": [],
   "source": [
    "a = total.groupby('material')['city_area'].count().reset_index()\n",
    "fig, ax = plt.subplots()\n",
    "ax.barh(a.material, a.city_area, edgecolor=\"white\", linewidth=0.7)"
   ]
  },
  {
   "cell_type": "code",
   "execution_count": null,
   "metadata": {},
   "outputs": [],
   "source": [
    "a = total.groupby('hight')['city_area'].count().reset_index()\n",
    "fig, ax = plt.subplots()\n",
    "ax.bar(a.hight, a.city_area, edgecolor=\"white\", linewidth=0.7)"
   ]
  },
  {
   "cell_type": "code",
   "execution_count": null,
   "metadata": {},
   "outputs": [],
   "source": [
    "a = total.groupby('rooms')['city_area'].count().reset_index()\n",
    "fig, ax = plt.subplots()\n",
    "ax.bar(a.rooms, a.city_area, edgecolor=\"white\", linewidth=0.7)"
   ]
  },
  {
   "cell_type": "code",
   "execution_count": null,
   "metadata": {},
   "outputs": [],
   "source": [
    "a = total.query(\"hight > 5 and hight <= 9\").groupby('floor')['city_area'].count().reset_index()\n",
    "fig, ax = plt.subplots()\n",
    "ax.bar(a.floor, a.city_area, edgecolor=\"white\", linewidth=0.7)"
   ]
  }
 ],
 "metadata": {
  "kernelspec": {
   "display_name": "total_project",
   "language": "python",
   "name": "python3"
  },
  "language_info": {
   "codemirror_mode": {
    "name": "ipython",
    "version": 3
   },
   "file_extension": ".py",
   "mimetype": "text/x-python",
   "name": "python",
   "nbconvert_exporter": "python",
   "pygments_lexer": "ipython3",
   "version": "3.9.13"
  },
  "orig_nbformat": 4,
  "vscode": {
   "interpreter": {
    "hash": "f9b21516205f1e5ca30714da32a8b764c04a24e7a5e8d37531908049fcea1ddd"
   }
  }
 },
 "nbformat": 4,
 "nbformat_minor": 2
}
