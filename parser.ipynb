{
 "cells": [
  {
   "attachments": {},
   "cell_type": "markdown",
   "metadata": {},
   "source": [
    "#### Сбор данных с сайта N1.ru\n"
   ]
  },
  {
   "cell_type": "code",
   "execution_count": 25,
   "metadata": {},
   "outputs": [
    {
     "name": "stdout",
     "output_type": "stream",
     "text": [
      "<Response [200]>\n",
      "<Response [200]>\n",
      "<Response [200]>\n",
      "<Response [200]>\n",
      "<Response [200]>\n",
      "<Response [200]>\n",
      "<Response [200]>\n",
      "<Response [200]>\n",
      "<Response [200]>\n",
      "<Response [200]>\n",
      "<Response [200]>\n",
      "<Response [200]>\n",
      "<Response [200]>\n",
      "<Response [200]>\n",
      "<Response [200]>\n"
     ]
    }
   ],
   "source": [
    "from bs4 import BeautifulSoup\n",
    "import requests\n",
    "import time\n",
    "import pandas as pd\n",
    "\n",
    "\n",
    "\n",
    "#словарь с тэгами\n",
    "d = {}\n",
    "list_class = (\n",
    "    \"living-list-card-floor__item\",\n",
    "    \"living-list-card__material living-list-card-material living-list-card__inner-block\", \n",
    "    \"living-list-card-price__item _object\", \n",
    "    \"living-list-card-newbuilding__title\", \n",
    "    \"living-list-card__area living-list-card-area living-list-card__inner-block\",\n",
    "    \"card-title living-list-card__inner-block\"\n",
    ")\n",
    "\n",
    "for cl in list_class:\n",
    "    d[cl] = []\n",
    "\n",
    "page = 0\n",
    "\n",
    "# собирает словаь\n",
    "while page in range(451): #на одной странице 25 объявлений\n",
    "\n",
    "    url = 'https://ekaterinburg.n1.ru/kupit/kvartiry/vtorichka/region-Sverdlovskaya-oblast/?page=' + str(page)\n",
    "\n",
    "    response = requests.get(url)\n",
    "    html_soup = BeautifulSoup(response.text, 'lxml')\n",
    "    a = html_soup.find_all(class_=\"living-list-card\")\n",
    "\n",
    "\n",
    "    for cl in list_class:\n",
    "        for i in a:\n",
    "            if i.find(class_=cl) is None:\n",
    "                d[cl].append(0)\n",
    "            else:\n",
    "                d[cl].append(i.find(class_=cl).text.strip())\n",
    "\n",
    "    page += 1\n",
    "\n",
    "    if page % 30 == 0:\n",
    "\n",
    "        time.sleep(3)\n",
    "        print(response)\n",
    "\n",
    "\n",
    "pd.DataFrame(d).to_csv('out.csv', index=False) #сохраняет в csv файл\n",
    " \n",
    "\n"
   ]
  },
  {
   "attachments": {},
   "cell_type": "markdown",
   "metadata": {},
   "source": [
    "#### Очистка/преобразование данных"
   ]
  },
  {
   "cell_type": "code",
   "execution_count": 44,
   "metadata": {},
   "outputs": [],
   "source": [
    "import numpy as np\n",
    "\n",
    "df1 = pd.read_csv('out.csv')\n",
    "\n",
    "\n",
    "# переименование колонок\n",
    "#floor - этаж, material - материал стен дома, price - цена квартиры, newbuilding - новостройка(сдана)/вторичка, square - площадь квартиры, rooms - количество комнат\n",
    "df1.rename(columns={\n",
    "        \"living-list-card-floor__item\":'floor', \n",
    "        \"living-list-card__material living-list-card-material living-list-card__inner-block\":'material', \n",
    "        \"living-list-card-price__item _object\":'price', \n",
    "        \"living-list-card-newbuilding__title\":'newbuilding', \n",
    "        \"living-list-card__area living-list-card-area living-list-card__inner-block\":'square',\n",
    "        \"card-title living-list-card__inner-block\":'rooms',\n",
    "}, inplace=True)\n",
    "\n",
    "\n",
    "\n",
    "df1['price'] = df1['price'].str.replace(' ', '').astype(int)\n",
    "a = df1['square'].str.split(' ', expand=True, )\n",
    "df1['square'] = a[0].astype(int)\n",
    "a = df1['floor'].str.split('/', expand=True, )\n",
    "df1['floor'] = a[0].astype(int)\n",
    "a = a[1].str.strip().str.split(' ', expand=True)\n",
    "\n",
    "#информация о количестве этажей в доме\n",
    "df1['hight'] = a[0].astype(int) \n",
    "\n",
    "#расположена на первом/последнем\n",
    "df1['first'] = np.where(df1['floor'] == 1, 1, 0)\n",
    "df1['last'] = np.where(df1['floor'] == df1['hight'], 1, 0)\n",
    "a = df1['rooms'].str.strip().str.split(',', expand=True)\n",
    "\n",
    "#улица расположения квартиры\n",
    "df1['street'] = a[1]\n",
    "df1['rooms'] = a[0]\n",
    "a = a[2].str.strip().str.split('П', expand=True)\n",
    "\n",
    "#номер дома\n",
    "df1['house'] = a[0].replace(['\\xa0'], '')\n",
    "\n",
    "#стоимость квадратного метра\n",
    "df1['kv'] = (df1['price']/df1['square']).astype(int)\n",
    "df1.material.replace('Бетонные блоки - монолит', 'Бетонные блоки', inplace=True)\n",
    "df1.material.replace('Кирпич - монолит', 'Кирпич', inplace=True)\n",
    "df1.material.replace('Шлакоблоки', 'Бетонные блоки', inplace=True)\n",
    "df1.newbuilding.replace('0', 'Вторичка', inplace=True)\n",
    "\n",
    "\n",
    "\n",
    "\n",
    "df1.reset_index(inplace=True)\n",
    "\n",
    "\n",
    "#фильтрует неактуальные данные\n",
    "df1 = df1.query(\"material != '0' and material != 'Дерево'\")\n",
    "df1['address'] = (df1['street'] + ' ' + df1['house'].str.replace('\\xa0', ''))\n",
    "df1['address'] = df1.address.str.strip(' ')\n",
    "\n",
    "df1.to_csv('total.csv', index=False)\n"
   ]
  },
  {
   "cell_type": "code",
   "execution_count": null,
   "metadata": {},
   "outputs": [],
   "source": []
  }
 ],
 "metadata": {
  "kernelspec": {
   "display_name": "total_project_wisout_sklearnn",
   "language": "python",
   "name": "python3"
  },
  "language_info": {
   "codemirror_mode": {
    "name": "ipython",
    "version": 3
   },
   "file_extension": ".py",
   "mimetype": "text/x-python",
   "name": "python",
   "nbconvert_exporter": "python",
   "pygments_lexer": "ipython3",
   "version": "3.9.13"
  },
  "orig_nbformat": 4,
  "vscode": {
   "interpreter": {
    "hash": "6fc857f602e0985af46d20fe922beda9a8e41862389f1d0ea7df006e1c435c3f"
   }
  }
 },
 "nbformat": 4,
 "nbformat_minor": 2
}
